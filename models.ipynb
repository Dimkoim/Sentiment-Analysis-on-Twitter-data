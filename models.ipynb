{
 "cells": [
  {
   "cell_type": "code",
   "execution_count": 1,
   "metadata": {
    "collapsed": false
   },
   "outputs": [
    {
     "name": "stderr",
     "output_type": "stream",
     "text": [
      "Using gpu device 0: GRID K520 (CNMeM is enabled with initial size: 95.0% of memory, cuDNN 5103)\n",
      "/home/ubuntu/anaconda3/lib/python3.5/site-packages/theano/sandbox/cuda/__init__.py:600: UserWarning: Your cuDNN version is more recent than the one Theano officially supports. If you see any problems, try updating Theano or downgrading cuDNN to version 5.\n",
      "  warnings.warn(warn)\n"
     ]
    }
   ],
   "source": [
    "import theano"
   ]
  },
  {
   "cell_type": "code",
   "execution_count": 2,
   "metadata": {
    "collapsed": false
   },
   "outputs": [
    {
     "name": "stderr",
     "output_type": "stream",
     "text": [
      "Using Theano backend.\n"
     ]
    }
   ],
   "source": [
    "import _pickle as cPickle\n",
    "from features import train_test_features"
   ]
  },
  {
   "cell_type": "code",
   "execution_count": 3,
   "metadata": {
    "collapsed": false
   },
   "outputs": [
    {
     "name": "stdout",
     "output_type": "stream",
     "text": [
      "Processing of 2500000 tweets for the training set...\n",
      "2500000/2500000 processed tweets.\n",
      "Processing of 2500000 tweets for the testing set...\n",
      "10000/10000 processed tweets.\n",
      "Tokenization of tweets...\n",
      "Found 492701 unique tokens.\n",
      "Pad sequences (samples x time)\n",
      "train_sequences shape: (2500000, 30)\n",
      "test_sequences shape: (10000, 30)\n",
      "Shuffling of the training set...\n",
      "Extracting word vectors from glove200.txt...\n",
      "Found 1193514 word vectors.\n",
      "Creating the embedding matrix...\n",
      "Embedding matrix created.\n"
     ]
    }
   ],
   "source": [
    "train_sequences, labels, test_sequences, max_features, embedding_matrix = train_test_features(full=True, n_gram=False, pretrained=True)"
   ]
  },
  {
   "cell_type": "code",
   "execution_count": 4,
   "metadata": {
    "collapsed": true
   },
   "outputs": [],
   "source": [
    "cPickle.dump([train_sequences, labels, test_sequences, max_features, embedding_matrix], open('features_1.dat', 'wb'))"
   ]
  },
  {
   "cell_type": "code",
   "execution_count": 6,
   "metadata": {
    "collapsed": false
   },
   "outputs": [
    {
     "name": "stdout",
     "output_type": "stream",
     "text": [
      "Processing of 2500000 tweets for the training set...\n",
      "2500000/2500000 processed tweets.\n",
      "Processing of 2500000 tweets for the testing set...\n",
      "10000/10000 processed tweets.\n",
      "Tokenization of tweets...\n",
      "Found 492701 unique tokens.\n",
      "Adding 2-gram features\n",
      "Average train sequence length: 31\n",
      "Average test sequence length: 29\n",
      "Pad sequences (samples x time)\n",
      "train_sequences shape: (2500000, 60)\n",
      "test_sequences shape: (10000, 60)\n",
      "Shuffling of the training set...\n"
     ]
    }
   ],
   "source": [
    "train_sequences, labels, test_sequences, max_features = train_test_features(full=True, n_gram=True, pretrained=False)"
   ]
  },
  {
   "cell_type": "code",
   "execution_count": 7,
   "metadata": {
    "collapsed": true
   },
   "outputs": [],
   "source": [
    "cPickle.dump([train_sequences, labels, test_sequences, max_features], open('features_2.dat', 'wb'))"
   ]
  }
 ],
 "metadata": {
  "kernelspec": {
   "display_name": "Python 3",
   "language": "python",
   "name": "python3"
  },
  "language_info": {
   "codemirror_mode": {
    "name": "ipython",
    "version": 3
   },
   "file_extension": ".py",
   "mimetype": "text/x-python",
   "name": "python",
   "nbconvert_exporter": "python",
   "pygments_lexer": "ipython3",
   "version": "3.5.1"
  }
 },
 "nbformat": 4,
 "nbformat_minor": 0
}
